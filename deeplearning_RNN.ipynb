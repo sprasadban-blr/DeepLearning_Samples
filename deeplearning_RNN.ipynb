{
 "cells": [
  {
   "cell_type": "code",
   "execution_count": 1,
   "metadata": {},
   "outputs": [],
   "source": [
    "'''\n",
    "https://towardsdatascience.com/recurrent-neural-networks-d4642c9bc7ce\n",
    "https://towardsdatascience.com/machine-learning-recurrent-neural-networks-and-long-short-term-memory-lstm-python-keras-example-86001ceaaebc\n",
    "https://towardsdatascience.com/recurrent-neural-networks-by-example-in-python-ffd204f99470\n",
    "\n",
    "Cross Entropy (Binary CE, Categorical CE): https://gombru.github.io/2018/05/23/cross_entropy_loss/\n",
    "\n",
    "RNN Mathemaical Intuition: \n",
    "    https://towardsdatascience.com/the-most-intuitive-and-easiest-guide-for-recurrent-neural-network-873c29da73c7\n",
    "    http://colah.github.io/posts/2015-08-Understanding-LSTMs/\n",
    "\n",
    "Example in python: https://towardsdatascience.com/recurrent-neural-networks-by-example-in-python-ffd204f99470\n",
    "\n",
    "Nice with Graphics: \n",
    "    https://towardsdatascience.com/illustrated-guide-to-recurrent-neural-networks-79e5eb8049c9\n",
    "    https://towardsdatascience.com/illustrated-guide-to-lstms-and-gru-s-a-step-by-step-explanation-44e9eb85bf21\n",
    "\n",
    "'''\n",
    "\n",
    "'''\n",
    "The steps of the approach are outlined below:\n",
    "    - Convert abstracts from list of strings into list of lists of integers (sequences)\n",
    "    - Create feature and labels from sequences\n",
    "    - Build LSTM model with Embedding, LSTM, and Dense layers\n",
    "    - Load in pre-trained embeddings\n",
    "    - Train model to predict next work in sequence\n",
    "    - Make predictions by passing in starting sequence\n",
    "'''\n",
    "# Patents dataset: https://www.patentsview.org/querydev/\n",
    "# Query to download: https://www.patentsview.org/api/patents/query?q={\"_or\":[{\"_text_all\":{\"patent_title\":\"neural%20network\"}},{\"_text_all\":{\"patent_abstract\":\"neural%20network\"}}]}&f=[\"patent_title\",\"patent_abstract\"]&s=[{\"patent_title\":\"asc\"}]\n",
    "# https://github.com/WillKoehrsen/recurrent-neural-networks/blob/master/notebooks/Deep%20Dive%20into%20Recurrent%20Neural%20Networks.ipynb\n",
    "\n",
    "import csv\n",
    "from keras_preprocessing.text import Tokenizer\n",
    "import numpy as np"
   ]
  },
  {
   "cell_type": "code",
   "execution_count": 2,
   "metadata": {},
   "outputs": [
    {
     "name": "stdout",
     "output_type": "stream",
     "text": [
      "Total no. of rows: 1001\n",
      "Field names are:patent_abstract, patent_title\n",
      "\n",
      "List of strings:\n",
      "An air-fuel ratio control system for an internal combustion engine, which is capable of accurately estimating an exhaust gas state parameter according to the properties of fuel, thereby making it possible to properly control the air-fuel ratio of a mixture. The air-fuel ratio control system 1 estimates an exhaust gas state parameter indicative of a state of exhaust gases, as an estimated exhaust gas state parameter (AF13 NN) by inputting a detected combustion state parameter (DCADLYIG) indicative of a combustion state of the mixture in the engine 3, and detected operating state parameters (NE, TW, PBA, IGLOG, TOUT) indicative of operating states of the engine 3, to a neural network (NN) configured as a network to which are input the combustion state parameter (DCADLYIG) and the operating state parameters (NE, TW, PBA, IGLOG, TOUT), and in which the exhaust gas state parameter is used as a teacher signal (step 1), and controls the air-fuel ratio based on the estimated exhaust gas state parameter (AF_NN) (steps 3, 4, and 24 to 28).\n",
      "\n",
      "List of list of integers:\n",
      "[11, 233, 295, 320, 53, 20, 8, 11, 304, 401, 259, 28, 10, 561, 3, 840, 637, 11, 718, 461, 112, 121, 141, 5, 1, 750, 3, 295, 358, 751, 148, 571, 5, 2259, 53, 1, 233, 295, 320, 3, 2, 1526, 1, 233, 295, 320, 53, 20, 182, 820, 11, 718, 461, 112, 121, 353, 3, 2, 112, 3, 718, 2578, 26, 11, 398, 718, 461, 112, 121, 4710, 771, 14, 639, 2, 277, 401, 112, 121, 3665, 353, 3, 2, 401, 112, 3, 1, 1526, 9, 1, 259, 704, 4, 277, 231, 112, 87, 3666, 3667, 3668, 3669, 3670, 353, 3, 231, 406, 3, 1, 259, 704, 5, 2, 7, 6, 771, 89, 26, 2, 6, 5, 28, 15, 16, 1, 401, 112, 121, 3665, 4, 1, 231, 112, 87, 3666, 3667, 3668, 3669, 3670, 4, 9, 28, 1, 718, 461, 112, 121, 10, 48, 26, 2, 2258, 29, 279, 182, 4, 1091, 1, 233, 295, 320, 31, 18, 1, 398, 718, 461, 112, 121, 4711, 771, 344, 704, 1830, 4, 2260, 5, 1202]\n",
      "\n",
      "Num of words in vocabulary= 6561\n",
      "\n",
      "Back to word from indexes:\n",
      "an air fuel ratio control system for an internal combustion engine which is capable of accurately estimating an exhaust gas state parameter according to the properties of fuel thereby making it possible to properly control the air fuel ratio of\n"
     ]
    }
   ],
   "source": [
    "filename = 'patent_abstracts_short.csv'\n",
    "# initializing the titles and rows list \n",
    "fields = [] \n",
    "abstracts = [] \n",
    "\n",
    "# reading csv file \n",
    "with open(filename, 'r', encoding=\"utf8\") as csvfile:\n",
    "    # creating a csv reader object \n",
    "    csvreader = csv.reader(csvfile) \n",
    "      \n",
    "    # extracting field names through first row \n",
    "    fields = next(csvreader)\n",
    "    \n",
    "    # extracting each data row one by one \n",
    "    for row in csvreader:\n",
    "        # Take only abstracts\n",
    "        abstracts.append(row[0]) \n",
    "  \n",
    "    # get total number of rows \n",
    "    print(\"Total no. of rows: %d\"%(csvreader.line_num)) \n",
    "\n",
    "# printing the field names \n",
    "print('Field names are:' + ', '.join(field for field in fields))\n",
    "print('\\nList of strings:')\n",
    "print(abstracts[100])\n",
    "\n",
    "'''\n",
    "1. Remove punctuation and split strings into lists of individual words\n",
    "2. Convert the individual words into integers\n",
    "'''\n",
    "\n",
    "# Don't remove punctuation or uppercase\n",
    "tokenizer = Tokenizer(num_words=None,\n",
    "                      filters='!\"#$%&()*+,-./:;<=>?@[\\\\]^_`{|}~\\t\\n',\n",
    "                      lower=True,\n",
    "                      split=\" \")\n",
    "tokenizer.fit_on_texts(abstracts)\n",
    "sequences = tokenizer.texts_to_sequences(abstracts)\n",
    "print('\\nList of list of integers:')\n",
    "print(sequences[100])\n",
    "\n",
    "word_idx = tokenizer.word_index\n",
    "print('\\nNum of words in vocabulary=', len(word_idx)+1)\n",
    "\n",
    "#Mapping of indexes to word\n",
    "print('\\nBack to word from indexes:')\n",
    "idx_word = tokenizer.index_word\n",
    "print(' '.join(idx_word[w] for w in sequences[100][:40]))"
   ]
  },
  {
   "cell_type": "code",
   "execution_count": 3,
   "metadata": {},
   "outputs": [
    {
     "name": "stdout",
     "output_type": "stream",
     "text": [
      "features shape= (81174, 50)\n",
      "labels size= 81174\n"
     ]
    }
   ],
   "source": [
    "features = []\n",
    "labels = []\n",
    "\n",
    "training_length = 50\n",
    "\n",
    "# Iterate through the sequences of tokens\n",
    "# Every 50 words for training and 51st words is a label\n",
    "for seq in sequences:\n",
    "\n",
    "    # Create multiple training examples from each sequence\n",
    "    for i in range(training_length, len(seq)):\n",
    "        \n",
    "        # Extract the features and label\n",
    "        extract = seq[i - training_length:i + 1]\n",
    "\n",
    "        # Set the features and label\n",
    "        features.append(extract[:-1])\n",
    "        labels.append(extract[-1])\n",
    "        \n",
    "features = np.array(features)\n",
    "print('features shape=',features.shape)\n",
    "print('labels size=', len(labels))"
   ]
  },
  {
   "cell_type": "code",
   "execution_count": 4,
   "metadata": {},
   "outputs": [
    {
     "name": "stdout",
     "output_type": "stream",
     "text": [
      "(81174, 6561)\n",
      "[0 0 0 ... 0 0 0]\n",
      "of\n"
     ]
    }
   ],
   "source": [
    "num_words = len(word_idx)+1\n",
    "\n",
    "#one hot encoding of labels\n",
    "label_array = np.zeros((len(features), num_words), dtype=np.int8)\n",
    "for example_index, word_index in enumerate(labels):\n",
    "    label_array[example_index, word_index] = 1\n",
    "print(label_array.shape)\n",
    "\n",
    "print(label_array[100])\n",
    "# To find the word corresponding to label\n",
    "print(idx_word[np.argmax(label_array[100])])"
   ]
  },
  {
   "cell_type": "code",
   "execution_count": 5,
   "metadata": {},
   "outputs": [
    {
     "name": "stdout",
     "output_type": "stream",
     "text": [
      "(56821, 50)\n",
      "(56821, 6561)\n"
     ]
    }
   ],
   "source": [
    "from sklearn.utils import shuffle\n",
    "TRAIN_FRACTION = 0.7\n",
    "RANDOM_STATE = 50\n",
    "\n",
    "def create_train_valid(features,\n",
    "                       labels,\n",
    "                       num_words,\n",
    "                       train_fraction=TRAIN_FRACTION):\n",
    "    \"\"\"Create training and validation features and labels.\"\"\"\n",
    "\n",
    "    # Randomly shuffle features and labels\n",
    "    features, labels = shuffle(features, labels, random_state=RANDOM_STATE)\n",
    "\n",
    "    # Decide on number of samples for training\n",
    "    train_end = int(train_fraction * len(labels))\n",
    "\n",
    "    train_features = np.array(features[:train_end])\n",
    "    valid_features = np.array(features[train_end:])\n",
    "\n",
    "    train_labels = labels[:train_end]\n",
    "    valid_labels = labels[train_end:]\n",
    "\n",
    "    # Convert to arrays\n",
    "    X_train, X_valid = np.array(train_features), np.array(valid_features)\n",
    "\n",
    "    # Using int8 for memory savings\n",
    "    y_train = np.zeros((len(train_labels), num_words), dtype=np.int8)\n",
    "    y_valid = np.zeros((len(valid_labels), num_words), dtype=np.int8)\n",
    "\n",
    "    # One hot encoding of labels\n",
    "    for example_index, word_index in enumerate(train_labels):\n",
    "        y_train[example_index, word_index] = 1\n",
    "\n",
    "    for example_index, word_index in enumerate(valid_labels):\n",
    "        y_valid[example_index, word_index] = 1\n",
    "\n",
    "    # Memory management\n",
    "    import gc\n",
    "    gc.enable()\n",
    "    del features, labels, train_features, valid_features, train_labels, valid_labels\n",
    "    gc.collect()\n",
    "\n",
    "    return X_train, X_valid, y_train, y_valid\n",
    "\n",
    "X_train, X_valid, y_train, y_valid = create_train_valid(\n",
    "    features, labels, num_words)\n",
    "print(X_train.shape)\n",
    "print(y_train.shape)"
   ]
  },
  {
   "cell_type": "code",
   "execution_count": 6,
   "metadata": {},
   "outputs": [
    {
     "name": "stdout",
     "output_type": "stream",
     "text": [
      "(400000, 101)\n"
     ]
    }
   ],
   "source": [
    "# Download glove https://nlp.stanford.edu/projects/glove/\n",
    "# DOwnload only 100 Dimension word2vec https://www.kaggle.com/anindya2906/glove6b#\n",
    "glove_100_vectors = 'glove.6B.100d.txt'\n",
    "glove = np.loadtxt(glove_100_vectors, dtype='str', comments=None, encoding=\"utf8\")\n",
    "print(glove.shape)"
   ]
  },
  {
   "cell_type": "code",
   "execution_count": 7,
   "metadata": {},
   "outputs": [
    {
     "name": "stdout",
     "output_type": "stream",
     "text": [
      "[-3.9551e-01  5.4660e-01  5.0315e-01 -6.3682e-01 -4.5470e-01  3.0889e-01\n",
      " -4.9240e-02  2.7191e-01  3.1562e-01 -3.2879e-01  2.5089e-01  1.4508e-01\n",
      "  3.5136e-01 -2.2793e-01 -1.5894e-01 -5.1527e-01 -2.7978e-01  3.6470e-01\n",
      " -3.9425e-01  3.3299e-01  4.3051e-01  1.8300e-01  2.5095e-01 -1.8547e-01\n",
      "  3.4698e-01  5.5137e-02 -4.5979e-01 -8.2963e-01 -1.8523e-02 -3.6772e-01\n",
      "  4.5566e-02  7.1052e-01 -2.2782e-02 -8.0889e-02  2.0685e-01  4.9855e-01\n",
      " -5.9794e-02 -8.0048e-03 -2.3823e-01 -3.3759e-01 -2.4201e-01 -2.3788e-01\n",
      " -1.1362e-03 -4.0395e-01 -4.4859e-01 -3.2189e-01  4.8405e-01 -2.7999e-02\n",
      "  1.0148e-01 -9.3585e-01 -8.7522e-02 -3.9959e-01  3.6545e-01  1.3726e+00\n",
      " -3.0713e-01 -2.5940e+00  2.2431e-01 -4.1168e-02  1.7765e+00  4.0010e-01\n",
      " -1.0996e-01  1.4178e+00 -2.6154e-01  1.8617e-01  7.9328e-01 -1.1709e-01\n",
      "  8.7541e-01  4.3911e-01  3.4711e-01 -2.8515e-01  7.6269e-02 -6.3038e-01\n",
      "  1.6408e-01 -3.7053e-01  5.8485e-01 -1.5472e-01 -2.6382e-01 -1.8590e-01\n",
      " -7.5228e-01 -1.5752e-01  7.8539e-01 -1.8846e-02 -8.0130e-01  1.5561e-01\n",
      " -1.8624e+00 -1.6969e-01  1.9419e-01 -3.0683e-01 -7.8067e-01 -4.9689e-01\n",
      " -1.8256e-01 -4.2016e-02 -2.6290e-01  5.8531e-02 -4.4664e-01 -9.9765e-02\n",
      " -4.3050e-01 -2.3693e-01 -1.4519e-02  3.1981e-01] so\n",
      "(400000, 100)\n"
     ]
    }
   ],
   "source": [
    "vectors = glove[:, 1:].astype('float')\n",
    "words = glove[:, 0]\n",
    "\n",
    "del glove\n",
    "\n",
    "print(vectors[100], words[100])\n",
    "print(vectors.shape)"
   ]
  },
  {
   "cell_type": "code",
   "execution_count": 8,
   "metadata": {},
   "outputs": [
    {
     "name": "stdout",
     "output_type": "stream",
     "text": [
      "There were 388 words without pre-trained embeddings.\n"
     ]
    }
   ],
   "source": [
    "# Creating embedding matrix\n",
    "word_lookup = {word: vector for word, vector in zip(words, vectors)}\n",
    "\n",
    "embedding_matrix = np.zeros((num_words, vectors.shape[1]))\n",
    "\n",
    "not_found = 0\n",
    "\n",
    "for i, word in enumerate(word_idx.keys()):\n",
    "    # Look up the word embedding\n",
    "    vector = word_lookup.get(word, None)\n",
    "\n",
    "    # Record in matrix\n",
    "    if vector is not None:\n",
    "        embedding_matrix[i + 1, :] = vector\n",
    "    else:\n",
    "        not_found += 1\n",
    "\n",
    "print(f'There were {not_found} words without pre-trained embeddings.')"
   ]
  },
  {
   "cell_type": "code",
   "execution_count": 9,
   "metadata": {},
   "outputs": [
    {
     "data": {
      "text/plain": [
       "0"
      ]
     },
     "execution_count": 9,
     "metadata": {},
     "output_type": "execute_result"
    }
   ],
   "source": [
    "import gc\n",
    "gc.enable()\n",
    "del vectors\n",
    "gc.collect()"
   ]
  },
  {
   "cell_type": "code",
   "execution_count": 10,
   "metadata": {},
   "outputs": [
    {
     "name": "stderr",
     "output_type": "stream",
     "text": [
      "c:\\python36\\lib\\site-packages\\ipykernel_launcher.py:3: RuntimeWarning: invalid value encountered in true_divide\n",
      "  This is separate from the ipykernel package so we can avoid doing imports until\n"
     ]
    }
   ],
   "source": [
    "# Normalize and convert nan to 0\n",
    "embedding_matrix = embedding_matrix / \\\n",
    "    np.linalg.norm(embedding_matrix, axis=1).reshape((-1, 1))\n",
    "embedding_matrix = np.nan_to_num(embedding_matrix)"
   ]
  },
  {
   "cell_type": "code",
   "execution_count": 11,
   "metadata": {},
   "outputs": [],
   "source": [
    "def find_closest(query, embedding_matrix, word_idx, idx_word, n=10):\n",
    "    \"\"\"Find closest words to a query word in embeddings\"\"\"\n",
    "\n",
    "    idx = word_idx.get(query, None)\n",
    "    # Handle case where query is not in vocab\n",
    "    if idx is None:\n",
    "        print(f'{query} not found in vocab.')\n",
    "        return\n",
    "    else:\n",
    "        vec = embedding_matrix[idx]\n",
    "        # Handle case where word doesn't have an embedding\n",
    "        if np.all(vec == 0):\n",
    "            print(f'{query} has no pre-trained embedding.')\n",
    "            return\n",
    "        else:\n",
    "            # Calculate distance between vector and all others\n",
    "            dists = np.dot(embedding_matrix, vec)\n",
    "\n",
    "            # Sort indexes in reverse order\n",
    "            idxs = np.argsort(dists)[::-1][:n]\n",
    "            sorted_dists = dists[idxs]\n",
    "            closest = [idx_word[i] for i in idxs]\n",
    "\n",
    "    print(f'Query: {query}\\n')\n",
    "    max_len = max([len(i) for i in closest])\n",
    "    # Print out the word and cosine distances\n",
    "    for word, dist in zip(closest, sorted_dists):\n",
    "        print(f'Word: {word:15} Cosine Similarity: {round(dist, 4)}')"
   ]
  },
  {
   "cell_type": "code",
   "execution_count": 12,
   "metadata": {},
   "outputs": [
    {
     "name": "stdout",
     "output_type": "stream",
     "text": [
      "Query: the\n",
      "\n",
      "Word: the             Cosine Similarity: 1.0\n",
      "Word: this            Cosine Similarity: 0.8573\n",
      "Word: part            Cosine Similarity: 0.8508\n",
      "Word: one             Cosine Similarity: 0.8503\n",
      "Word: of              Cosine Similarity: 0.8329\n",
      "Word: same            Cosine Similarity: 0.8325\n",
      "Word: first           Cosine Similarity: 0.821\n",
      "Word: on              Cosine Similarity: 0.82\n",
      "Word: its             Cosine Similarity: 0.8169\n",
      "Word: as              Cosine Similarity: 0.8128\n"
     ]
    }
   ],
   "source": [
    "find_closest('the', embedding_matrix, word_idx, idx_word)"
   ]
  },
  {
   "cell_type": "code",
   "execution_count": 13,
   "metadata": {},
   "outputs": [
    {
     "name": "stdout",
     "output_type": "stream",
     "text": [
      "Query: neural\n",
      "\n",
      "Word: neural          Cosine Similarity: 1.0\n",
      "Word: neuronal        Cosine Similarity: 0.6841\n",
      "Word: cortical        Cosine Similarity: 0.676\n",
      "Word: plasticity      Cosine Similarity: 0.6625\n",
      "Word: pathways        Cosine Similarity: 0.6534\n",
      "Word: neurons         Cosine Similarity: 0.6485\n",
      "Word: sensory         Cosine Similarity: 0.6391\n",
      "Word: cognitive       Cosine Similarity: 0.6125\n",
      "Word: brain           Cosine Similarity: 0.6082\n",
      "Word: physiological   Cosine Similarity: 0.6022\n"
     ]
    }
   ],
   "source": [
    "find_closest('neural', embedding_matrix, word_idx, idx_word, 10)"
   ]
  },
  {
   "cell_type": "code",
   "execution_count": 14,
   "metadata": {},
   "outputs": [
    {
     "name": "stdout",
     "output_type": "stream",
     "text": [
      ". not found in vocab.\n"
     ]
    }
   ],
   "source": [
    "find_closest('.', embedding_matrix, word_idx, idx_word, 10)"
   ]
  },
  {
   "cell_type": "code",
   "execution_count": 15,
   "metadata": {},
   "outputs": [
    {
     "name": "stdout",
     "output_type": "stream",
     "text": [
      "wonder not found in vocab.\n"
     ]
    }
   ],
   "source": [
    "find_closest('wonder', embedding_matrix, word_idx, idx_word)"
   ]
  },
  {
   "cell_type": "code",
   "execution_count": 16,
   "metadata": {},
   "outputs": [
    {
     "name": "stdout",
     "output_type": "stream",
     "text": [
      "dnn has no pre-trained embedding.\n"
     ]
    }
   ],
   "source": [
    "find_closest('dnn', embedding_matrix, word_idx, idx_word)"
   ]
  },
  {
   "cell_type": "code",
   "execution_count": 17,
   "metadata": {},
   "outputs": [
    {
     "name": "stdout",
     "output_type": "stream",
     "text": [
      "Model: \"sequential\"\n",
      "_________________________________________________________________\n",
      "Layer (type)                 Output Shape              Param #   \n",
      "=================================================================\n",
      "embedding (Embedding)        (None, None, 100)         656100    \n",
      "_________________________________________________________________\n",
      "masking (Masking)            (None, None, 100)         0         \n",
      "_________________________________________________________________\n",
      "lstm (LSTM)                  (None, 64)                42240     \n",
      "_________________________________________________________________\n",
      "dense (Dense)                (None, 128)               8320      \n",
      "_________________________________________________________________\n",
      "dropout (Dropout)            (None, 128)               0         \n",
      "_________________________________________________________________\n",
      "dense_1 (Dense)              (None, 6561)              846369    \n",
      "=================================================================\n",
      "Total params: 1,553,029\n",
      "Trainable params: 896,929\n",
      "Non-trainable params: 656,100\n",
      "_________________________________________________________________\n",
      "None\n"
     ]
    }
   ],
   "source": [
    "LSTM_CELLS = 64\n",
    "\n",
    "from keras.models import Sequential, load_model\n",
    "from keras.layers import LSTM, Dense, Dropout, Embedding, Masking, Bidirectional\n",
    "from keras.optimizers import Adam\n",
    "\n",
    "from keras.utils import plot_model\n",
    "\n",
    "def make_word_level_model(num_words,\n",
    "                          embedding_matrix,\n",
    "                          lstm_cells=64,\n",
    "                          trainable=False,\n",
    "                          lstm_layers=1,\n",
    "                          bi_direc=False):\n",
    "    \"\"\"Make a word level recurrent neural network with option for pretrained embeddings\n",
    "       and varying numbers of LSTM cell layers.\"\"\"\n",
    "\n",
    "    model = Sequential()\n",
    "\n",
    "    # Map words to an embedding\n",
    "    if not trainable:\n",
    "        model.add(\n",
    "            Embedding(\n",
    "                input_dim=num_words,\n",
    "                output_dim=embedding_matrix.shape[1],\n",
    "                weights=[embedding_matrix],\n",
    "                trainable=False,\n",
    "                mask_zero=True))\n",
    "        model.add(Masking())\n",
    "    else:\n",
    "        model.add(\n",
    "            Embedding(\n",
    "                input_dim=num_words,\n",
    "                output_dim=embedding_matrix.shape[1],\n",
    "                weights=[embedding_matrix],\n",
    "                trainable=True))\n",
    "\n",
    "    # If want to add multiple LSTM layers\n",
    "    if lstm_layers > 1:\n",
    "        for i in range(lstm_layers - 1):\n",
    "            model.add(\n",
    "                LSTM(\n",
    "                    lstm_cells,\n",
    "                    return_sequences=True,\n",
    "                    dropout=0.1,\n",
    "                    recurrent_dropout=0.1))\n",
    "\n",
    "    # Add final LSTM cell layer\n",
    "    if bi_direc:\n",
    "        model.add(\n",
    "            Bidirectional(\n",
    "                LSTM(\n",
    "                    lstm_cells,\n",
    "                    return_sequences=False,\n",
    "                    dropout=0.1,\n",
    "                    recurrent_dropout=0.1)))\n",
    "    else:\n",
    "        model.add(\n",
    "            LSTM(\n",
    "                lstm_cells,\n",
    "                return_sequences=False,\n",
    "                dropout=0.1,\n",
    "                recurrent_dropout=0.1))\n",
    "    model.add(Dense(128, activation='relu'))\n",
    "    # Dropout for regularization\n",
    "    model.add(Dropout(0.5))\n",
    "\n",
    "    # Output layer\n",
    "    model.add(Dense(num_words, activation='softmax'))\n",
    "\n",
    "    # Compile the model\n",
    "    model.compile(\n",
    "        optimizer='adam',\n",
    "        loss='categorical_crossentropy',\n",
    "        metrics=['accuracy'])\n",
    "    return model\n",
    "\n",
    "\n",
    "model = make_word_level_model(\n",
    "    num_words,\n",
    "    embedding_matrix=embedding_matrix,\n",
    "    lstm_cells=LSTM_CELLS,\n",
    "    trainable=False,\n",
    "    lstm_layers=1)\n",
    "\n",
    "print(model.summary())"
   ]
  },
  {
   "cell_type": "code",
   "execution_count": 19,
   "metadata": {},
   "outputs": [
    {
     "data": {
      "image/png": "[encoded data removed]",
      "text/plain": [
       "<IPython.core.display.Image object>"
      ]
     },
     "execution_count": 19,
     "metadata": {},
     "output_type": "execute_result"
    }
   ],
   "source": [
    "from IPython.display import Image\n",
    "model_name = 'pre-trained-rnn'\n",
    "model_dir = './'\n",
    "\n",
    "plot_model(model, to_file=f'{model_dir}{model_name}.png', show_shapes=True)\n",
    "\n",
    "Image(f'{model_dir}{model_name}.png')"
   ]
  },
  {
   "cell_type": "code",
   "execution_count": 20,
   "metadata": {},
   "outputs": [],
   "source": [
    "from keras.callbacks import EarlyStopping, ModelCheckpoint\n",
    "\n",
    "BATCH_SIZE = 2048\n",
    "EPOCHS = 150\n",
    "VERBOSE = 0\n",
    "SAVE_MODEL = True\n",
    "\n",
    "def make_callbacks(model_name, save=SAVE_MODEL):\n",
    "    \"\"\"Make list of callbacks for training\"\"\"\n",
    "    callbacks = [EarlyStopping(monitor='val_loss', patience=5)]\n",
    "\n",
    "    if save:\n",
    "        callbacks.append(\n",
    "            ModelCheckpoint(\n",
    "                f'{model_dir}{model_name}.h5',\n",
    "                save_best_only=True,\n",
    "                save_weights_only=False))\n",
    "    return callbacks\n",
    "\n",
    "\n",
    "callbacks = make_callbacks(model_name)"
   ]
  },
  {
   "cell_type": "code",
   "execution_count": 21,
   "metadata": {},
   "outputs": [
    {
     "name": "stdout",
     "output_type": "stream",
     "text": [
      "<tensorflow.python.keras.callbacks.History object at 0x0000018C73BE4208>\n"
     ]
    }
   ],
   "source": [
    "history = model.fit(\n",
    "    X_train,\n",
    "    y_train,\n",
    "    epochs=EPOCHS,\n",
    "    batch_size=BATCH_SIZE,\n",
    "    verbose=VERBOSE,\n",
    "    callbacks=callbacks,\n",
    "    validation_data=(X_valid, y_valid))\n",
    "print(history)"
   ]
  },
  {
   "cell_type": "code",
   "execution_count": 22,
   "metadata": {},
   "outputs": [],
   "source": [
    "def load_and_evaluate(model_name, return_model=False):\n",
    "    \"\"\"Load in a trained model and evaluate with log loss and accuracy\"\"\"\n",
    "\n",
    "    model = load_model(f'{model_dir}{model_name}.h5')\n",
    "    r = model.evaluate(X_valid, y_valid, batch_size=2048, verbose=1)\n",
    "\n",
    "    valid_crossentropy = r[0]\n",
    "    valid_accuracy = r[1]\n",
    "\n",
    "    print(f'Cross Entropy: {round(valid_crossentropy, 4)}')\n",
    "    print(f'Accuracy: {round(100 * valid_accuracy, 2)}%')\n",
    "\n",
    "    if return_model:\n",
    "        return model"
   ]
  },
  {
   "cell_type": "code",
   "execution_count": 23,
   "metadata": {},
   "outputs": [
    {
     "name": "stdout",
     "output_type": "stream",
     "text": [
      "12/12 [==============================] - 5s 435ms/step - loss: 6.3239 - accuracy: 0.0901\n",
      "Cross Entropy: 6.3239\n",
      "Accuracy: 9.01%\n"
     ]
    }
   ],
   "source": [
    "model = load_and_evaluate(model_name, return_model=True)"
   ]
  },
  {
   "cell_type": "code",
   "execution_count": null,
   "metadata": {},
   "outputs": [],
   "source": []
  }
 ],
 "metadata": {
  "kernelspec": {
   "display_name": "Python 3",
   "language": "python",
   "name": "python3"
  },
  "language_info": {
   "codemirror_mode": {
    "name": "ipython",
    "version": 3
   },
   "file_extension": ".py",
   "mimetype": "text/x-python",
   "name": "python",
   "nbconvert_exporter": "python",
   "pygments_lexer": "ipython3",
   "version": "3.6.8"
  }
 },
 "nbformat": 4,
 "nbformat_minor": 2
}
